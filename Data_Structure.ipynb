{
  "nbformat": 4,
  "nbformat_minor": 0,
  "metadata": {
    "colab": {
      "provenance": []
    },
    "kernelspec": {
      "name": "python3",
      "display_name": "Python 3"
    },
    "language_info": {
      "name": "python"
    }
  },
  "cells": [
    {
      "cell_type": "markdown",
      "source": [
        "# Data Structures\n"
      ],
      "metadata": {
        "id": "a1GYx5JtggTN"
      }
    },
    {
      "cell_type": "markdown",
      "source": [
        "1) What are data structures, and why are they important?\n",
        "\n",
        "  - A data structure is a way of organizing and storing data in a computer so that it can be accessed and used efficiently for different operations.\n",
        " They are important because They are efficient,they can be used for optimization of code and organizing data in a way which is easily accessable for computer in short they are essential for building fast , scalable , and maintainable software.\n",
        "\n",
        "\n",
        "2) Explain the difference between mutable and immutable data types with examples?\n",
        "\n",
        " - Mutability:- Means which can be changed example:- List,Dictionary\n",
        " -Immutability:- Means which can not be changed expample:- Tuple,String\n",
        "\n",
        "3) What are the main differences between lists and tuples in Python?\n",
        "\n",
        "- List:- In List The item can be changed means its mulatble.\n",
        "- Tuple:- In Tuple the item can not be changed means its immutable.\n",
        "\n",
        "4) Describe how dictionaries store data?\n",
        "\n",
        "- Dictionaries store data in a key and value pair. Where 'value' can be of any datatype and also can be repetable and 'key' is unique and immutable.\n",
        "\n",
        "5) Why might you use a set instead of a list in Python?\n",
        "\n",
        "- We use set instead of a list in python when we care about uniqueness and fast look-up (fast accesbility of data without searching through every thing).\n",
        "\n",
        "6) What is a string in Python, and how is it different from a list?\n",
        "\n",
        "- A string in python is a sequence of character which can be written in either in single or double quotes. List is a sequence of element of any type.\n",
        "- String are immutable , list are mutable.\n",
        "\n",
        "7) How do tuples ensure data integrity in Python?\n",
        "\n",
        "- Tuple in python are immutable so it means that it can't be changed once written inside the tupe syntax because of which it ensures data integrity and security of data.\n",
        "- Example:- Aadhar card and pan card number are stored inside tuple.So, that it can't get changed and because these are private data which require high security.\n",
        "\n",
        "8) What is a hash table, and how does it relate to dictionaries in Python?\n",
        "\n",
        "- Hash table in python is data structure thar stores in key and value pair and also allow fast loop-up,insetion and deletion through hashing. key pass through hash function through that it is stored in unique number (hash code) and that hash code determine where will the value be stored in memory.\n",
        "- Dictionary is immplemented using hash table internally.\n",
        "\n",
        "9) Can lists contain different data types in Python?\n",
        "- Yes list can contain different data types in python.\n",
        "\n",
        "10) Explain why strings are immutable in Python?\n",
        "- String are sequence of character which can't be changed individually like list or dictionary.\n",
        "If we try to modify it. Python will make a new object of the string instead of changing the original one.\n",
        "\n",
        "11) What advantages do dictionaries offer over lists for certain tasks?\n",
        "\n",
        "- Element Access speed is fast, uniqueness of key which don't allow duplicate values and also uses lookup table.\n",
        "\n",
        "12) Describe a scenario where using a tuple would be preferable over a list?\n",
        "\n",
        "- As we know that tuple is immutable menans the data can't be changed so to store confidential data we use tuple as we cannot overwite the value in tuples like list.\n",
        "- Example:- Aadhar and Pan number are stored in tuple as they are confidential data and cannot be overwritten.\n",
        "\n",
        "13) How do sets handle duplicate values in Python?\n",
        "- As we know set only store data which are unique in it. So when it stores or insert a data which is already in set will ignore the additional and content will remain unchanged.\n",
        "\n",
        "14) How does the “in” keyword work differently for lists and dictionaries?\n",
        "\n",
        "- List :- In list the 'in' keyword performs a linear search to determine if a specified value exists within the list. It iterates through each element on the list and compares it to the target value.\n",
        "- Dictionary :- In dictionaries 'in' keyword check for existance of 'key',not a value.Dictionry in python are executed as hash table,which allows for significantly faster lookups.\n",
        "\n",
        "15)  Can you modify the elements of a tuple? Explain why or why not?\n",
        "\n",
        "- We can not modify the elements of a tuple because it is a immutable data type meaning its value cannot be changed, added to or removed.Its more memory efficient because of its fixed size and also has data intigrity meaning the data will remain constant through the program.\n",
        "- And if you try to change the element in a tuple it will raise a typeError,stating object does not support item.\n",
        "\n",
        "16) What is a nested dictionary, and give an example of its use case?\n",
        "\n",
        "- A nested dictionary is a dictionary where the value associated with a key is another dictionary.This structure create complex hirarchical data models.\n",
        "- Example:- Common usecase for nested dictionary is to store structure information,like records for multiple employees. The outer dictionary can hold each employee's unique ID as a key, and the value for each ID can be another dictionary containing that employees specific detalis.\n",
        "\n",
        "17) Describe the time complexity of accessing elements in a dictionary?\n",
        "\n",
        "- The time complexity of accessing element in a dictionary is on average O(1), means it takes constant time. on Worst case its O(n).\n",
        "\n",
        "18) In what situations are lists preferred over dictionaries?\n",
        "\n",
        "- You should prefer list when the order of your items is important and you need to access them by their numerical postion(index), rather than by a unique key\n",
        "- when storing a duplicate.\n",
        "- when accessing by positio is necessary.\n",
        "\n",
        "19)  Why are dictionaries considered unordered, and how does that affect data retrieval?\n",
        "\n",
        "- Dictionaries are considered unordered because their main goal was fast data retrival.\n",
        "- The fundamental rule of data retrival in a dictionary is that it's a mapping from a key to a value. Even though we entered a value it stores it at random position in the memory so as long as we use the assigned key we will retrieve value immediately.\n",
        "\n",
        "20) Explain the difference between a list and a dictionary in terms of data retrieval.\n",
        "\n",
        "# List\n",
        "-  Data is retrived using indexed positioning.\n",
        "- positional access based on order\n",
        "- slower because its has to go through each and every element O(n).\n",
        "\n",
        "# Dictionary\n",
        "- Data is retrived using key. (unique identifier).\n",
        "- Key based access.\n",
        "- Faster O(1) direct access using hash table.\n",
        "\n",
        "\n"
      ],
      "metadata": {
        "id": "tCR1AJ3Egmx7"
      }
    },
    {
      "cell_type": "markdown",
      "source": [
        "# Coding"
      ],
      "metadata": {
        "id": "Cb8bhUzMoIE8"
      }
    },
    {
      "cell_type": "code",
      "execution_count": 1,
      "metadata": {
        "id": "jm3FYrpKgLxo",
        "colab": {
          "base_uri": "https://localhost:8080/"
        },
        "outputId": "81bd208c-03de-4960-b8e5-ad2c93bebe6d"
      },
      "outputs": [
        {
          "output_type": "stream",
          "name": "stdout",
          "text": [
            "Enter your name: Alex\n",
            "Alex\n"
          ]
        }
      ],
      "source": [
        "# 1)Write a code to create a string with your name and print it?\n",
        "\n",
        "name = input(\"Enter your name: \")\n",
        "print(name)"
      ]
    },
    {
      "cell_type": "code",
      "source": [
        "# 2)Write a code to find the length of the string \"Hello World\"?\n",
        "\n",
        "a = \"Hello World\"\n",
        "print(len(a))"
      ],
      "metadata": {
        "colab": {
          "base_uri": "https://localhost:8080/"
        },
        "id": "Oi6aIdSQoTEZ",
        "outputId": "04b05b26-7c89-400e-b812-69ff9f892fcb"
      },
      "execution_count": 2,
      "outputs": [
        {
          "output_type": "stream",
          "name": "stdout",
          "text": [
            "11\n"
          ]
        }
      ]
    },
    {
      "cell_type": "code",
      "source": [
        "# 3)Write a code to slice the first 3 characters from the string \"Python Programming\"?\n",
        "\n",
        "a = \"Python programming\"\n",
        "print(a[0:3])"
      ],
      "metadata": {
        "colab": {
          "base_uri": "https://localhost:8080/"
        },
        "id": "Wrkm3bi5ogg2",
        "outputId": "1c974977-0497-43b2-951e-a1cdb57825ab"
      },
      "execution_count": 3,
      "outputs": [
        {
          "output_type": "stream",
          "name": "stdout",
          "text": [
            "Pyt\n"
          ]
        }
      ]
    },
    {
      "cell_type": "code",
      "source": [
        "# 4) Write a code to convert the string \"hello\" to uppercase?\n",
        "\n",
        "a = \"hello\"\n",
        "print(a.upper())"
      ],
      "metadata": {
        "colab": {
          "base_uri": "https://localhost:8080/"
        },
        "id": "eTFHUgV7o3Q0",
        "outputId": "b9fe6859-5658-467e-e1d7-ad440fdf64a3"
      },
      "execution_count": 8,
      "outputs": [
        {
          "output_type": "stream",
          "name": "stdout",
          "text": [
            "HELLO\n"
          ]
        }
      ]
    },
    {
      "cell_type": "code",
      "source": [
        "# 5) Write a code to replace the word \"apple\" with \"orange\" in the string \"I like apple\".\n",
        "\n",
        "text = \"I like apple\"\n",
        "new_text = text.replace(\"apple\", \"orange\")\n",
        "print(new_text)\n",
        "\n"
      ],
      "metadata": {
        "colab": {
          "base_uri": "https://localhost:8080/"
        },
        "id": "DttE9RsmpB_o",
        "outputId": "db66cc57-bfe5-4fa3-84e1-9970a72ca1d8"
      },
      "execution_count": 9,
      "outputs": [
        {
          "output_type": "stream",
          "name": "stdout",
          "text": [
            "I like orange\n"
          ]
        }
      ]
    },
    {
      "cell_type": "code",
      "source": [
        "# 6) Write a code to create a list with numbers 1 to 5 and print it?\n",
        "\n",
        "a = [1,2,3,4,5]\n",
        "print(a)"
      ],
      "metadata": {
        "colab": {
          "base_uri": "https://localhost:8080/"
        },
        "id": "u_0Pps1ypt_q",
        "outputId": "5b94befb-1fc2-4128-b88d-0cc25440e013"
      },
      "execution_count": 10,
      "outputs": [
        {
          "output_type": "stream",
          "name": "stdout",
          "text": [
            "[1, 2, 3, 4, 5]\n"
          ]
        }
      ]
    },
    {
      "cell_type": "code",
      "source": [
        "# 7) Write a code to append the number 10 to the list [1, 2, 3, 4]?\n",
        "\n",
        "a = [1,2,3,4]\n",
        "a.append(10)\n",
        "print(a)"
      ],
      "metadata": {
        "colab": {
          "base_uri": "https://localhost:8080/"
        },
        "id": "hv0MhOU7p5Hm",
        "outputId": "e3fd7219-6b86-462d-b8ef-3975df9d4587"
      },
      "execution_count": 13,
      "outputs": [
        {
          "output_type": "stream",
          "name": "stdout",
          "text": [
            "[1, 2, 3, 4, 10]\n"
          ]
        }
      ]
    },
    {
      "cell_type": "code",
      "source": [
        "# 8) Write a code to remove the number 3 from the list [1, 2, 3, 4, 5]?\n",
        "\n",
        "a = [1,2,3,4,5]\n",
        "a.remove(3)\n",
        "print(a)"
      ],
      "metadata": {
        "colab": {
          "base_uri": "https://localhost:8080/"
        },
        "id": "tVr4jKKd0WaU",
        "outputId": "9e8a2dfb-36b0-4cba-d71c-a5b0459839d1"
      },
      "execution_count": 14,
      "outputs": [
        {
          "output_type": "stream",
          "name": "stdout",
          "text": [
            "[1, 2, 4, 5]\n"
          ]
        }
      ]
    },
    {
      "cell_type": "code",
      "source": [
        "#9) Write a code to access the second element in the list ['a', 'b', 'c', 'd']?\n",
        "\n",
        "a=['a', 'b', 'c', 'd']\n",
        "print(a[1])"
      ],
      "metadata": {
        "colab": {
          "base_uri": "https://localhost:8080/"
        },
        "id": "DOo4zmxi0r_I",
        "outputId": "f7302d6a-b734-405c-bd4f-c99b482edc02"
      },
      "execution_count": 16,
      "outputs": [
        {
          "output_type": "stream",
          "name": "stdout",
          "text": [
            "b\n"
          ]
        }
      ]
    },
    {
      "cell_type": "code",
      "source": [
        "# 10)  Write a code to reverse the list [10, 20, 30, 40, 50].\n",
        "\n",
        "a = [10, 20, 30, 40, 50]\n",
        "\n",
        "print(a[::-1])"
      ],
      "metadata": {
        "colab": {
          "base_uri": "https://localhost:8080/"
        },
        "id": "KxuiStaP04yG",
        "outputId": "1366ea85-7a47-4747-b58c-afecaa7f79d5"
      },
      "execution_count": 17,
      "outputs": [
        {
          "output_type": "stream",
          "name": "stdout",
          "text": [
            "[50, 40, 30, 20, 10]\n"
          ]
        }
      ]
    },
    {
      "cell_type": "code",
      "source": [
        "#11) Write a code to create a tuple with the elements 100, 200, 300 and print it.\n",
        "\n",
        "a = (100,200,300)\n",
        "print(a)"
      ],
      "metadata": {
        "colab": {
          "base_uri": "https://localhost:8080/"
        },
        "id": "fq4vxOQI1Onk",
        "outputId": "5f56c48e-b63c-4e94-84bb-7d34ecdc81c7"
      },
      "execution_count": 18,
      "outputs": [
        {
          "output_type": "stream",
          "name": "stdout",
          "text": [
            "(100, 200, 300)\n"
          ]
        }
      ]
    },
    {
      "cell_type": "code",
      "source": [
        "#12)  Write a code to access the second-to-last element of the tuple ('red', 'green', 'blue', 'yellow').\n",
        "\n",
        "a = ('red', 'green', 'blue', 'yellow')\n",
        "print(a[-2])"
      ],
      "metadata": {
        "colab": {
          "base_uri": "https://localhost:8080/"
        },
        "id": "ZrK6KGJp1fEU",
        "outputId": "d15413d4-5243-4367-c86e-8952451e756f"
      },
      "execution_count": 19,
      "outputs": [
        {
          "output_type": "stream",
          "name": "stdout",
          "text": [
            "blue\n"
          ]
        }
      ]
    },
    {
      "cell_type": "code",
      "source": [
        "#13)  Write a code to find the minimum number in the tuple (10, 20, 5, 15).\n",
        "\n",
        "a = (10, 20, 5, 15)\n",
        "print(min(a))\n",
        "\n"
      ],
      "metadata": {
        "colab": {
          "base_uri": "https://localhost:8080/"
        },
        "id": "8KgbZCti1qML",
        "outputId": "c40f7345-3b4e-4c52-e0ba-cb4c193d8b26"
      },
      "execution_count": 20,
      "outputs": [
        {
          "output_type": "stream",
          "name": "stdout",
          "text": [
            "5\n"
          ]
        }
      ]
    },
    {
      "cell_type": "code",
      "source": [
        "#14) Write a code to find the index of the element \"cat\" in the tuple ('dog', 'cat', 'rabbit').\n",
        "\n",
        "animal = ('dog', 'cat', 'rabbit')\n",
        "print(animal.index('cat'))"
      ],
      "metadata": {
        "colab": {
          "base_uri": "https://localhost:8080/"
        },
        "id": "hX2VV_9C2Ikw",
        "outputId": "c8e86c53-432a-4900-efcc-ce69a92407da"
      },
      "execution_count": 22,
      "outputs": [
        {
          "output_type": "stream",
          "name": "stdout",
          "text": [
            "1\n"
          ]
        }
      ]
    },
    {
      "cell_type": "code",
      "source": [
        "#15)  Write a code to create a tuple containing three different fruits and check if \"kiwi\" is in it.\n",
        "\n",
        "fruits = (\"apple\", \"banana\", \"orange\")\n",
        "if \"kiwi\" in fruits:\n",
        "    print(\"kiwi is in the tuple\")\n",
        "else:\n",
        "    print(\"kiwi is not in the tuple\")"
      ],
      "metadata": {
        "colab": {
          "base_uri": "https://localhost:8080/"
        },
        "id": "spdqcomg2YAk",
        "outputId": "8336369f-03d5-47b7-c23d-735b1340a75d"
      },
      "execution_count": 23,
      "outputs": [
        {
          "output_type": "stream",
          "name": "stdout",
          "text": [
            "kiwi is not in the tuple\n"
          ]
        }
      ]
    },
    {
      "cell_type": "code",
      "source": [
        "#16)  Write a code to create a set with the elements 'a', 'b', 'c' and print it.\n",
        "\n",
        "a = {'a','b','c'}\n",
        "print(a)"
      ],
      "metadata": {
        "colab": {
          "base_uri": "https://localhost:8080/"
        },
        "id": "xJKpcXLS2lwI",
        "outputId": "c7a3b139-c198-4a24-9c65-dfbb9a477220"
      },
      "execution_count": 24,
      "outputs": [
        {
          "output_type": "stream",
          "name": "stdout",
          "text": [
            "{'b', 'a', 'c'}\n"
          ]
        }
      ]
    },
    {
      "cell_type": "code",
      "source": [
        "#17)  Write a code to clear all elements from the set {1, 2, 3, 4, 5}.\n",
        "\n",
        "a = {1, 2, 3, 4, 5}\n",
        "a.clear()\n",
        "print(a)"
      ],
      "metadata": {
        "colab": {
          "base_uri": "https://localhost:8080/"
        },
        "id": "amMYT7kg2xGH",
        "outputId": "65f5957e-8756-4b15-9304-3c3c9e959f41"
      },
      "execution_count": 25,
      "outputs": [
        {
          "output_type": "stream",
          "name": "stdout",
          "text": [
            "set()\n"
          ]
        }
      ]
    },
    {
      "cell_type": "code",
      "source": [
        "#18)  Write a code to remove the element 4 from the set {1, 2, 3, 4}.\n",
        "\n",
        "a = {1,2,3,4}\n",
        "a.remove(4)\n",
        "print(a)"
      ],
      "metadata": {
        "colab": {
          "base_uri": "https://localhost:8080/"
        },
        "id": "gTM5UcTx29sS",
        "outputId": "17d57ccd-3ca8-46f9-ef59-9ea814bdb5a8"
      },
      "execution_count": 26,
      "outputs": [
        {
          "output_type": "stream",
          "name": "stdout",
          "text": [
            "{1, 2, 3}\n"
          ]
        }
      ]
    },
    {
      "cell_type": "code",
      "source": [
        "#19)  Write a code to find the union of two sets {1, 2, 3} and {3, 4, 5}.\n",
        "\n",
        "a={1,2,3}\n",
        "b={3,4,5}\n",
        "c=a.union(b)\n",
        "print(c)"
      ],
      "metadata": {
        "colab": {
          "base_uri": "https://localhost:8080/"
        },
        "id": "ytt_0LvF3HmT",
        "outputId": "da63eca1-18ab-4e64-f9fd-1348a56ef8b4"
      },
      "execution_count": 28,
      "outputs": [
        {
          "output_type": "stream",
          "name": "stdout",
          "text": [
            "{1, 2, 3, 4, 5}\n"
          ]
        }
      ]
    },
    {
      "cell_type": "code",
      "source": [
        "#20) Write a code to find the intersection of two sets {1, 2, 3} and {2, 3, 4}.\n",
        "\n",
        "a = {1,2,3}\n",
        "b = {2,3,4}\n",
        "c = a.intersection(b)\n",
        "print(c)"
      ],
      "metadata": {
        "colab": {
          "base_uri": "https://localhost:8080/"
        },
        "id": "QKC6qHNJ3VNJ",
        "outputId": "ccbada51-0a56-4746-b884-bd26cd0e3955"
      },
      "execution_count": 29,
      "outputs": [
        {
          "output_type": "stream",
          "name": "stdout",
          "text": [
            "{2, 3}\n"
          ]
        }
      ]
    },
    {
      "cell_type": "code",
      "source": [
        "#21)  Write a code to create a dictionary with the keys \"name\", \"age\", and \"city\", and print it.\n",
        "\n",
        "a = {\"name\": \"John\", \"age\": 25, \"city\": \"New York\"}\n",
        "print(a)"
      ],
      "metadata": {
        "colab": {
          "base_uri": "https://localhost:8080/"
        },
        "id": "XTo3smXe3qn0",
        "outputId": "1b0e242d-365d-4ca3-fbfc-a246a9d0bfb8"
      },
      "execution_count": 33,
      "outputs": [
        {
          "output_type": "stream",
          "name": "stdout",
          "text": [
            "{'name': 'John', 'age': 25, 'city': 'New York'}\n"
          ]
        }
      ]
    },
    {
      "cell_type": "code",
      "source": [
        "#22)  Write a code to add a new key-value pair \"country\": \"USA\" to the dictionary {'name': 'John', 'age': 25}.\n",
        "a = {'name':'John','age':25}\n",
        "a['country'] = 'USA'\n",
        "print(a)\n",
        "\n"
      ],
      "metadata": {
        "colab": {
          "base_uri": "https://localhost:8080/"
        },
        "id": "kTr_SELw34Rr",
        "outputId": "0af84ca3-3e5f-4df6-f029-d227fe0287b0"
      },
      "execution_count": 37,
      "outputs": [
        {
          "output_type": "stream",
          "name": "stdout",
          "text": [
            "{'name': 'John', 'age': 25, 'country': 'USA'}\n"
          ]
        }
      ]
    },
    {
      "cell_type": "code",
      "source": [
        "#23) Write a code to access the value associated with the key \"name\" in the dictionary {'name': 'Alice', 'age': 30}.\n",
        "\n",
        "a = {'name': 'Alice', 'age': 30}\n",
        "print(a['name'])"
      ],
      "metadata": {
        "colab": {
          "base_uri": "https://localhost:8080/"
        },
        "id": "YiGcjySD4PM1",
        "outputId": "8840def0-a1bc-4117-b771-37838965ffc4"
      },
      "execution_count": 36,
      "outputs": [
        {
          "output_type": "stream",
          "name": "stdout",
          "text": [
            "Alice\n"
          ]
        }
      ]
    },
    {
      "cell_type": "code",
      "source": [
        "#24)  Write a code to remove the key \"age\" from the dictionary {'name': 'Bob', 'age': 22, 'city': 'New York'}.\n",
        "\n",
        "a = {'name':'Bob','age':22,'city':'New York'}\n",
        "a.pop('age')\n",
        "print(a)"
      ],
      "metadata": {
        "colab": {
          "base_uri": "https://localhost:8080/"
        },
        "id": "tIPGT-SS4d9w",
        "outputId": "3381fd3b-b470-4c4e-94c2-89df353747a4"
      },
      "execution_count": 45,
      "outputs": [
        {
          "output_type": "stream",
          "name": "stdout",
          "text": [
            "{'name': 'Bob', 'city': 'New York'}\n"
          ]
        }
      ]
    },
    {
      "cell_type": "code",
      "source": [
        "# 25)  Write a code to check if the key \"city\" exists in the dictionary {'name': 'Alice', 'city': 'Paris'}\n",
        "\n",
        "a = {'name': 'Alice', 'city': 'Paris'}\n",
        "if 'city' in a:\n",
        "    print(\"city is in the dictionary\")\n",
        "else:\n",
        "    print(\"city is not in the dictionary\")"
      ],
      "metadata": {
        "colab": {
          "base_uri": "https://localhost:8080/"
        },
        "id": "WQzGmMJf5DAn",
        "outputId": "c2f7c842-77d3-4e20-e86b-082c6e7e3aec"
      },
      "execution_count": 46,
      "outputs": [
        {
          "output_type": "stream",
          "name": "stdout",
          "text": [
            "city is in the dictionary\n"
          ]
        }
      ]
    },
    {
      "cell_type": "code",
      "source": [
        "# 26)Write a code to create a list, a tuple, and a dictionary, and print them all.\n",
        "\n",
        "a = [1,2,3,4]\n",
        "b = (1,2,3,4)\n",
        "c = {'name':'John','age':25}\n",
        "print(a)\n",
        "print(b)\n",
        "print(c)"
      ],
      "metadata": {
        "colab": {
          "base_uri": "https://localhost:8080/"
        },
        "id": "AJuX9-VI5rSr",
        "outputId": "c49e5c62-1eaa-44db-a1ae-d142eda9dcfe"
      },
      "execution_count": 47,
      "outputs": [
        {
          "output_type": "stream",
          "name": "stdout",
          "text": [
            "[1, 2, 3, 4]\n",
            "(1, 2, 3, 4)\n",
            "{'name': 'John', 'age': 25}\n"
          ]
        }
      ]
    },
    {
      "cell_type": "code",
      "source": [
        "# 27) Write a code to create a list of 5 random numbers between 1 and 100, sort it in ascending order, and print the result.(replaced)\n",
        "\n",
        "import random\n",
        "numbers = [random.randint(1, 100) for i in range(5)]\n",
        "numbers.sort()\n",
        "print(numbers)\n"
      ],
      "metadata": {
        "colab": {
          "base_uri": "https://localhost:8080/"
        },
        "id": "zuAQWaTT53gB",
        "outputId": "e7ff790b-3c5a-4b25-d83b-380e49acf650"
      },
      "execution_count": 48,
      "outputs": [
        {
          "output_type": "stream",
          "name": "stdout",
          "text": [
            "[54, 59, 61, 76, 95]\n"
          ]
        }
      ]
    },
    {
      "cell_type": "code",
      "source": [
        "# 28)  Write a code to create a list with strings and print the element at the third index.\n",
        "\n",
        "a = [\"apple\",\"banana\",\"orange\",\"grapes\",\"mango\"]\n",
        "print(a[3])"
      ],
      "metadata": {
        "colab": {
          "base_uri": "https://localhost:8080/"
        },
        "id": "sBEbQAzX6Xh_",
        "outputId": "4135a3f9-19b3-424f-dcb2-ace047fdc101"
      },
      "execution_count": 49,
      "outputs": [
        {
          "output_type": "stream",
          "name": "stdout",
          "text": [
            "grapes\n"
          ]
        }
      ]
    },
    {
      "cell_type": "code",
      "source": [
        "# 29)  Write a code to combine two dictionaries into one and print the result\n",
        "\n",
        "a = {'name': 'John', 'age': 25}\n",
        "b = {'city': 'New York', 'country': 'USA'}\n",
        "a.update(b)\n",
        "print(a)"
      ],
      "metadata": {
        "colab": {
          "base_uri": "https://localhost:8080/"
        },
        "id": "yFCb1F0X6nsx",
        "outputId": "c74cc3a4-5824-447e-dd23-903f539bc044"
      },
      "execution_count": 50,
      "outputs": [
        {
          "output_type": "stream",
          "name": "stdout",
          "text": [
            "{'name': 'John', 'age': 25, 'city': 'New York', 'country': 'USA'}\n"
          ]
        }
      ]
    },
    {
      "cell_type": "code",
      "source": [
        "# 30) Write a code to convert a list of strings into a set.\n",
        "\n",
        "a = [\"apple\",\"banana\",\"grapes\",\"mango\"]\n",
        "print(set(a))"
      ],
      "metadata": {
        "colab": {
          "base_uri": "https://localhost:8080/"
        },
        "id": "u6heZqf161-i",
        "outputId": "4f049bfa-cbf2-4ca9-857a-420804aa89f5"
      },
      "execution_count": 53,
      "outputs": [
        {
          "output_type": "stream",
          "name": "stdout",
          "text": [
            "{'mango', 'grapes', 'banana', 'apple'}\n"
          ]
        }
      ]
    },
    {
      "cell_type": "code",
      "source": [],
      "metadata": {
        "id": "XKujU2ra7MbQ"
      },
      "execution_count": null,
      "outputs": []
    }
  ]
}